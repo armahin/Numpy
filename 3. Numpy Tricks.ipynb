{
  "nbformat": 4,
  "nbformat_minor": 0,
  "metadata": {
    "colab": {
      "provenance": [],
      "authorship_tag": "ABX9TyMNpP7xWVF2ft10Qq2vDMur",
      "include_colab_link": true
    },
    "kernelspec": {
      "name": "python3",
      "display_name": "Python 3"
    },
    "language_info": {
      "name": "python"
    }
  },
  "cells": [
    {
      "cell_type": "markdown",
      "metadata": {
        "id": "view-in-github",
        "colab_type": "text"
      },
      "source": [
        "<a href=\"https://colab.research.google.com/github/armahin/Numpy/blob/main/3.%20Numpy%20Tricks.ipynb\" target=\"_parent\"><img src=\"https://colab.research.google.com/assets/colab-badge.svg\" alt=\"Open In Colab\"/></a>"
      ]
    },
    {
      "cell_type": "markdown",
      "source": [
        "## np.sort\n",
        "\n",
        "Returns a sorted copy of an array"
      ],
      "metadata": {
        "id": "eteQkQXq6uiv"
      }
    },
    {
      "cell_type": "code",
      "source": [
        "#Code\n",
        "import numpy as np\n",
        "a = np.random.randint(1,100,15)\n",
        "print(a)\n",
        "print(np.sort(a))\n",
        "print('To sort this in descending order')\n",
        "print(np.sort(a)[::-1])"
      ],
      "metadata": {
        "colab": {
          "base_uri": "https://localhost:8080/"
        },
        "id": "uRt9fl_t6xWN",
        "outputId": "8fd75f56-53e5-47fa-903b-bbae11b0057c"
      },
      "execution_count": null,
      "outputs": [
        {
          "output_type": "stream",
          "name": "stdout",
          "text": [
            "[49 29 13 20 43 83 96  8 76 84 11 35 32 88 61]\n",
            "[ 8 11 13 20 29 32 35 43 49 61 76 83 84 88 96]\n",
            "To sort this in descending order\n",
            "[96 88 84 83 76 61 49 43 35 32 29 20 13 11  8]\n"
          ]
        }
      ]
    },
    {
      "cell_type": "code",
      "source": [
        "b = np.random.randint(1,100,15).reshape(5,3)\n",
        "print(b)\n",
        "print('This will be sorted in column wise')\n",
        "print(np.sort(b,axis = 0))\n",
        "print('This will be sorted in row wise')\n",
        "print(np.sort(b,axis = 1))"
      ],
      "metadata": {
        "colab": {
          "base_uri": "https://localhost:8080/"
        },
        "id": "0x4WvUVo7AMG",
        "outputId": "6c615cf1-5e10-461e-bc6b-11249b64b20d"
      },
      "execution_count": null,
      "outputs": [
        {
          "output_type": "stream",
          "name": "stdout",
          "text": [
            "[[ 7 48 24]\n",
            " [71 55 16]\n",
            " [28 49  8]\n",
            " [50 89 16]\n",
            " [24 16 21]]\n",
            "This will be sorted in column wise\n",
            "[[ 7 16  8]\n",
            " [24 48 16]\n",
            " [28 49 16]\n",
            " [50 55 21]\n",
            " [71 89 24]]\n",
            "This will be sorted in row wise\n",
            "[[ 7 24 48]\n",
            " [16 55 71]\n",
            " [ 8 28 49]\n",
            " [16 50 89]\n",
            " [16 21 24]]\n"
          ]
        }
      ]
    },
    {
      "cell_type": "code",
      "source": [],
      "metadata": {
        "id": "waRJ7LoJ7K21"
      },
      "execution_count": null,
      "outputs": []
    },
    {
      "cell_type": "markdown",
      "source": [
        "## np.append\n",
        "\n",
        "Appends values along the mentioned axis at the end of the array"
      ],
      "metadata": {
        "id": "aBXV3rwM8AzH"
      }
    },
    {
      "cell_type": "code",
      "source": [
        "print(a)"
      ],
      "metadata": {
        "colab": {
          "base_uri": "https://localhost:8080/"
        },
        "id": "6a55lECN8Ink",
        "outputId": "16bdb87b-aa59-49cc-d8ae-42824c782ed7"
      },
      "execution_count": null,
      "outputs": [
        {
          "output_type": "stream",
          "name": "stdout",
          "text": [
            "[49 29 13 20 43 83 96  8 76 84 11 35 32 88 61]\n"
          ]
        }
      ]
    },
    {
      "cell_type": "code",
      "source": [
        "np.append(a,200)"
      ],
      "metadata": {
        "colab": {
          "base_uri": "https://localhost:8080/"
        },
        "id": "Vhtwtlqs8N99",
        "outputId": "be6a152f-d4f5-432d-ad64-9b21c3aae377"
      },
      "execution_count": null,
      "outputs": [
        {
          "output_type": "execute_result",
          "data": {
            "text/plain": [
              "array([ 49,  29,  13,  20,  43,  83,  96,   8,  76,  84,  11,  35,  32,\n",
              "        88,  61, 200])"
            ]
          },
          "metadata": {},
          "execution_count": 12
        }
      ]
    },
    {
      "cell_type": "code",
      "source": [
        "print(b)"
      ],
      "metadata": {
        "colab": {
          "base_uri": "https://localhost:8080/"
        },
        "id": "7Yltr-Y28R9F",
        "outputId": "d8f3a059-894a-4eb9-9657-d9a04c7cd3bd"
      },
      "execution_count": null,
      "outputs": [
        {
          "output_type": "stream",
          "name": "stdout",
          "text": [
            "[[ 7 48 24]\n",
            " [71 55 16]\n",
            " [28 49  8]\n",
            " [50 89 16]\n",
            " [24 16 21]]\n"
          ]
        }
      ]
    },
    {
      "cell_type": "code",
      "source": [
        "np.append(b,np.ones((b.shape[0],1)),axis = 1)"
      ],
      "metadata": {
        "colab": {
          "base_uri": "https://localhost:8080/"
        },
        "id": "bczHInqr8WsF",
        "outputId": "289fac99-dcba-4d8f-fc91-9a0da631d863"
      },
      "execution_count": null,
      "outputs": [
        {
          "output_type": "execute_result",
          "data": {
            "text/plain": [
              "array([[ 7., 48., 24.,  1.],\n",
              "       [71., 55., 16.,  1.],\n",
              "       [28., 49.,  8.,  1.],\n",
              "       [50., 89., 16.,  1.],\n",
              "       [24., 16., 21.,  1.]])"
            ]
          },
          "metadata": {},
          "execution_count": 16
        }
      ]
    },
    {
      "cell_type": "code",
      "source": [],
      "metadata": {
        "id": "p_PyPjAA8iUl"
      },
      "execution_count": null,
      "outputs": []
    },
    {
      "cell_type": "markdown",
      "source": [
        "## np.concatinate\n",
        "\n",
        "Concatinates a sequence of arrays along an existing axis."
      ],
      "metadata": {
        "id": "CkyzKSfN8-D_"
      }
    },
    {
      "cell_type": "code",
      "source": [
        "c = np.arange(6).reshape(2,3)\n",
        "d = np.arange(6,12).reshape(2,3)\n",
        "print(c)\n",
        "print()\n",
        "print(d)"
      ],
      "metadata": {
        "colab": {
          "base_uri": "https://localhost:8080/"
        },
        "id": "8Mxl_ODX8-qF",
        "outputId": "c2b2d26f-76a8-41dc-bd0f-179366cb4350"
      },
      "execution_count": null,
      "outputs": [
        {
          "output_type": "stream",
          "name": "stdout",
          "text": [
            "[[0 1 2]\n",
            " [3 4 5]]\n",
            "\n",
            "[[ 6  7  8]\n",
            " [ 9 10 11]]\n"
          ]
        }
      ]
    },
    {
      "cell_type": "code",
      "source": [
        "np.concatenate((c,d),axis = 1)"
      ],
      "metadata": {
        "colab": {
          "base_uri": "https://localhost:8080/"
        },
        "id": "ITVGHNLRGgGh",
        "outputId": "aa0b2af5-7d89-44da-ffbe-e9bbe692361c"
      },
      "execution_count": null,
      "outputs": [
        {
          "output_type": "execute_result",
          "data": {
            "text/plain": [
              "array([[ 0,  1,  2,  6,  7,  8],\n",
              "       [ 3,  4,  5,  9, 10, 11]])"
            ]
          },
          "metadata": {},
          "execution_count": 22
        }
      ]
    },
    {
      "cell_type": "code",
      "source": [],
      "metadata": {
        "id": "_gzBpTpYGq9h"
      },
      "execution_count": null,
      "outputs": []
    },
    {
      "cell_type": "markdown",
      "source": [
        "## np.unique\n",
        "\n",
        "gets the unique value from a given array"
      ],
      "metadata": {
        "id": "NKbH98gNG6vF"
      }
    },
    {
      "cell_type": "code",
      "source": [
        "e = np.array([1,1,2,2,3,3,4,4,5,5,6,6])"
      ],
      "metadata": {
        "id": "33QKsQNFHAb4"
      },
      "execution_count": null,
      "outputs": []
    },
    {
      "cell_type": "code",
      "source": [
        "np.unique(e)"
      ],
      "metadata": {
        "colab": {
          "base_uri": "https://localhost:8080/"
        },
        "id": "PYVLkXuOHFBB",
        "outputId": "4bed31a6-8555-4a5a-9fdb-eba7849f5719"
      },
      "execution_count": null,
      "outputs": [
        {
          "output_type": "execute_result",
          "data": {
            "text/plain": [
              "array([1, 2, 3, 4, 5, 6])"
            ]
          },
          "metadata": {},
          "execution_count": 24
        }
      ]
    },
    {
      "cell_type": "code",
      "source": [],
      "metadata": {
        "id": "tkOey14oHF-I"
      },
      "execution_count": null,
      "outputs": []
    },
    {
      "cell_type": "markdown",
      "source": [
        "## np.expand_dims\n",
        "\n",
        "With the help of Numpy.expand_dims() method, we can get the expanded dimensions of an array\n",
        "\n",
        "Ex: if we have 1D array we can convert it to 2D array"
      ],
      "metadata": {
        "id": "yu3H-v7DHLWS"
      }
    },
    {
      "cell_type": "code",
      "source": [
        "a"
      ],
      "metadata": {
        "colab": {
          "base_uri": "https://localhost:8080/"
        },
        "id": "qTh6CJiwHong",
        "outputId": "8d45e72a-bf1b-4baa-cbb8-302a36962a4a"
      },
      "execution_count": null,
      "outputs": [
        {
          "output_type": "execute_result",
          "data": {
            "text/plain": [
              "array([49, 29, 13, 20, 43, 83, 96,  8, 76, 84, 11, 35, 32, 88, 61])"
            ]
          },
          "metadata": {},
          "execution_count": 25
        }
      ]
    },
    {
      "cell_type": "code",
      "source": [
        "a.shape"
      ],
      "metadata": {
        "colab": {
          "base_uri": "https://localhost:8080/"
        },
        "id": "N_etzuAkHvFZ",
        "outputId": "155cf3ec-0dba-42af-fdab-0db58985753a"
      },
      "execution_count": null,
      "outputs": [
        {
          "output_type": "execute_result",
          "data": {
            "text/plain": [
              "(15,)"
            ]
          },
          "metadata": {},
          "execution_count": 27
        }
      ]
    },
    {
      "cell_type": "code",
      "source": [
        "np.expand_dims(a,axis = 0)"
      ],
      "metadata": {
        "colab": {
          "base_uri": "https://localhost:8080/"
        },
        "id": "DSBZ8KMOHL0w",
        "outputId": "d533202d-7e65-4c56-9851-b0bbefc68fec"
      },
      "execution_count": null,
      "outputs": [
        {
          "output_type": "execute_result",
          "data": {
            "text/plain": [
              "array([[49, 29, 13, 20, 43, 83, 96,  8, 76, 84, 11, 35, 32, 88, 61]])"
            ]
          },
          "metadata": {},
          "execution_count": 32
        }
      ]
    },
    {
      "cell_type": "code",
      "source": [
        "np.expand_dims(a,axis = 0).shape"
      ],
      "metadata": {
        "colab": {
          "base_uri": "https://localhost:8080/"
        },
        "id": "CFvHmNY5Hsko",
        "outputId": "161fc3a4-7a7a-4362-a965-7a7736aa6027"
      },
      "execution_count": null,
      "outputs": [
        {
          "output_type": "execute_result",
          "data": {
            "text/plain": [
              "(1, 15)"
            ]
          },
          "metadata": {},
          "execution_count": 33
        }
      ]
    },
    {
      "cell_type": "markdown",
      "source": [
        "## np.where\n",
        "\n",
        "returns the indices of elements in an input array where the given condition is satisfied.\n",
        "\n"
      ],
      "metadata": {
        "id": "S5AWS5bjIcrP"
      }
    },
    {
      "cell_type": "code",
      "source": [
        "a"
      ],
      "metadata": {
        "colab": {
          "base_uri": "https://localhost:8080/"
        },
        "id": "ZEyshktHIfLY",
        "outputId": "670e90f6-dceb-490b-8ae5-976cc1d92f4c"
      },
      "execution_count": null,
      "outputs": [
        {
          "output_type": "execute_result",
          "data": {
            "text/plain": [
              "array([49, 29, 13, 20, 43, 83, 96,  8, 76, 84, 11, 35, 32, 88, 61])"
            ]
          },
          "metadata": {},
          "execution_count": 34
        }
      ]
    },
    {
      "cell_type": "code",
      "source": [
        "#Find all indices with value greater than 50\n",
        "np.where(a>59)"
      ],
      "metadata": {
        "colab": {
          "base_uri": "https://localhost:8080/"
        },
        "id": "zSISHJjeIljI",
        "outputId": "03464573-c292-45a3-c5d0-1e88dd90b7ed"
      },
      "execution_count": null,
      "outputs": [
        {
          "output_type": "execute_result",
          "data": {
            "text/plain": [
              "(array([ 5,  6,  8,  9, 13, 14]),)"
            ]
          },
          "metadata": {},
          "execution_count": 37
        }
      ]
    },
    {
      "cell_type": "code",
      "source": [
        "#Replace all values > 50 with 0\n",
        "# np.where(condition,what to do when true,what to do when false)\n",
        "np.where(a>50,0,a)"
      ],
      "metadata": {
        "colab": {
          "base_uri": "https://localhost:8080/"
        },
        "id": "CXStRjr8Ip6Q",
        "outputId": "1934a8bd-17b4-4243-cdf6-fe509b83bc6c"
      },
      "execution_count": null,
      "outputs": [
        {
          "output_type": "execute_result",
          "data": {
            "text/plain": [
              "array([49, 29, 13, 20, 43,  0,  0,  8,  0,  0, 11, 35, 32,  0,  0])"
            ]
          },
          "metadata": {},
          "execution_count": 38
        }
      ]
    },
    {
      "cell_type": "code",
      "source": [
        "# Replace all even numbers with 0\n",
        "np.where(a%2 == 0,0,a)"
      ],
      "metadata": {
        "colab": {
          "base_uri": "https://localhost:8080/"
        },
        "id": "-KKucjG6IssA",
        "outputId": "aebe6571-2ce0-4b87-8136-747279f7e40e"
      },
      "execution_count": null,
      "outputs": [
        {
          "output_type": "execute_result",
          "data": {
            "text/plain": [
              "array([49, 29, 13,  0, 43, 83,  0,  0,  0,  0, 11, 35,  0,  0, 61])"
            ]
          },
          "metadata": {},
          "execution_count": 40
        }
      ]
    },
    {
      "cell_type": "code",
      "source": [],
      "metadata": {
        "id": "iCaiMLITJs4Y"
      },
      "execution_count": null,
      "outputs": []
    },
    {
      "cell_type": "markdown",
      "source": [
        "## np.argmax\n",
        "\n",
        "Rreturns indices of the max element of the array in a particular axis.\n"
      ],
      "metadata": {
        "id": "n04pWGoAJ6RI"
      }
    },
    {
      "cell_type": "code",
      "source": [
        "a"
      ],
      "metadata": {
        "colab": {
          "base_uri": "https://localhost:8080/"
        },
        "id": "q_Xa5HqeJ_e_",
        "outputId": "cad8af08-1846-4c6d-ee16-b5a71fbaeff1"
      },
      "execution_count": null,
      "outputs": [
        {
          "output_type": "execute_result",
          "data": {
            "text/plain": [
              "array([49, 29, 13, 20, 43, 83, 96,  8, 76, 84, 11, 35, 32, 88, 61])"
            ]
          },
          "metadata": {},
          "execution_count": 41
        }
      ]
    },
    {
      "cell_type": "code",
      "source": [
        "np.argmax(a)"
      ],
      "metadata": {
        "colab": {
          "base_uri": "https://localhost:8080/"
        },
        "id": "NDZRr5u0KCW4",
        "outputId": "e581a7ae-c884-4907-a078-d676d7696283"
      },
      "execution_count": null,
      "outputs": [
        {
          "output_type": "execute_result",
          "data": {
            "text/plain": [
              "6"
            ]
          },
          "metadata": {},
          "execution_count": 42
        }
      ]
    },
    {
      "cell_type": "code",
      "source": [
        "b"
      ],
      "metadata": {
        "colab": {
          "base_uri": "https://localhost:8080/"
        },
        "id": "UOjkOmttKIwO",
        "outputId": "7c55b6b4-5e38-46bc-839d-1a294b49d8ea"
      },
      "execution_count": null,
      "outputs": [
        {
          "output_type": "execute_result",
          "data": {
            "text/plain": [
              "array([[ 7, 48, 24],\n",
              "       [71, 55, 16],\n",
              "       [28, 49,  8],\n",
              "       [50, 89, 16],\n",
              "       [24, 16, 21]])"
            ]
          },
          "metadata": {},
          "execution_count": 43
        }
      ]
    },
    {
      "cell_type": "code",
      "source": [
        "np.argmax(b,axis = 0) #Column"
      ],
      "metadata": {
        "colab": {
          "base_uri": "https://localhost:8080/"
        },
        "id": "2XtlyWANKPwI",
        "outputId": "3a8741a5-10ec-4bf0-d3f4-07aab78200b2"
      },
      "execution_count": null,
      "outputs": [
        {
          "output_type": "execute_result",
          "data": {
            "text/plain": [
              "array([1, 3, 0])"
            ]
          },
          "metadata": {},
          "execution_count": 45
        }
      ]
    },
    {
      "cell_type": "code",
      "source": [
        "np.argmax(b,axis = 1) #Row"
      ],
      "metadata": {
        "colab": {
          "base_uri": "https://localhost:8080/"
        },
        "id": "mfremKDQKSw3",
        "outputId": "832acb82-ef49-4bdd-d9f2-35e379671394"
      },
      "execution_count": null,
      "outputs": [
        {
          "output_type": "execute_result",
          "data": {
            "text/plain": [
              "array([1, 0, 1, 1, 0])"
            ]
          },
          "metadata": {},
          "execution_count": 46
        }
      ]
    },
    {
      "cell_type": "code",
      "source": [
        "# np.argmin does the opposite"
      ],
      "metadata": {
        "id": "YSeK4XfwKpFf"
      },
      "execution_count": null,
      "outputs": []
    },
    {
      "cell_type": "markdown",
      "source": [
        "## np.cumsum\n",
        "\n",
        "numpy.cumsum() function is used when we want to compute the cumulative sum of array elements over a given axis.\n"
      ],
      "metadata": {
        "id": "v7lo1WclKy3q"
      }
    },
    {
      "cell_type": "code",
      "source": [
        "a"
      ],
      "metadata": {
        "colab": {
          "base_uri": "https://localhost:8080/"
        },
        "id": "xQavFLdRKvNg",
        "outputId": "d3932df0-357f-43b8-f530-c0aeec84361f"
      },
      "execution_count": null,
      "outputs": [
        {
          "output_type": "execute_result",
          "data": {
            "text/plain": [
              "array([49, 29, 13, 20, 43, 83, 96,  8, 76, 84, 11, 35, 32, 88, 61])"
            ]
          },
          "metadata": {},
          "execution_count": 50
        }
      ]
    },
    {
      "cell_type": "code",
      "source": [
        "np.cumsum(a)"
      ],
      "metadata": {
        "colab": {
          "base_uri": "https://localhost:8080/"
        },
        "id": "hKXm3juRNMRj",
        "outputId": "3f65a561-2bb1-47f0-e4e3-c54eaf09424d"
      },
      "execution_count": null,
      "outputs": [
        {
          "output_type": "execute_result",
          "data": {
            "text/plain": [
              "array([ 49,  78,  91, 111, 154, 237, 333, 341, 417, 501, 512, 547, 579,\n",
              "       667, 728])"
            ]
          },
          "metadata": {},
          "execution_count": 51
        }
      ]
    },
    {
      "cell_type": "code",
      "source": [
        "b"
      ],
      "metadata": {
        "colab": {
          "base_uri": "https://localhost:8080/"
        },
        "id": "xhnxNnCmNZE1",
        "outputId": "5603c7b3-b03f-4bd8-8259-7abebdbe54bb"
      },
      "execution_count": null,
      "outputs": [
        {
          "output_type": "execute_result",
          "data": {
            "text/plain": [
              "array([[ 7, 48, 24],\n",
              "       [71, 55, 16],\n",
              "       [28, 49,  8],\n",
              "       [50, 89, 16],\n",
              "       [24, 16, 21]])"
            ]
          },
          "metadata": {},
          "execution_count": 53
        }
      ]
    },
    {
      "cell_type": "code",
      "source": [
        "np.cumsum(b,axis = 0)"
      ],
      "metadata": {
        "colab": {
          "base_uri": "https://localhost:8080/"
        },
        "id": "GGjJIZL8NZCc",
        "outputId": "9665c35d-6d31-419c-f57f-0316b7730fb4"
      },
      "execution_count": null,
      "outputs": [
        {
          "output_type": "execute_result",
          "data": {
            "text/plain": [
              "array([[  7,  48,  24],\n",
              "       [ 78, 103,  40],\n",
              "       [106, 152,  48],\n",
              "       [156, 241,  64],\n",
              "       [180, 257,  85]])"
            ]
          },
          "metadata": {},
          "execution_count": 54
        }
      ]
    },
    {
      "cell_type": "code",
      "source": [
        "#np.cumprod\n",
        "np.cumprod(a)"
      ],
      "metadata": {
        "colab": {
          "base_uri": "https://localhost:8080/"
        },
        "id": "o_FK-ZZ6NFD-",
        "outputId": "316e0fda-3c29-49ec-fb00-5fbf6f3c58a8"
      },
      "execution_count": null,
      "outputs": [
        {
          "output_type": "execute_result",
          "data": {
            "text/plain": [
              "array([                  49,                 1421,                18473,\n",
              "                     369460,             15886780,           1318602740,\n",
              "               126585863040,        1012686904320,       76964204728320,\n",
              "           6464993197178880,    71114925168967680,  2489022380913868800,\n",
              "        5861739894405595136,  -675723356175073280, -4325636579260366848])"
            ]
          },
          "metadata": {},
          "execution_count": 55
        }
      ]
    },
    {
      "cell_type": "code",
      "source": [],
      "metadata": {
        "id": "zIqtlC6hNQjV"
      },
      "execution_count": null,
      "outputs": []
    },
    {
      "cell_type": "markdown",
      "source": [
        "## np.percentile\n",
        "\n",
        "numpy.percentile()function used to compute the nth percentile of the given data (array elements) along the specified axis.\n"
      ],
      "metadata": {
        "id": "nN2f9fvHNrZj"
      }
    },
    {
      "cell_type": "code",
      "source": [
        "a"
      ],
      "metadata": {
        "colab": {
          "base_uri": "https://localhost:8080/"
        },
        "id": "SYdAHMGxNsvl",
        "outputId": "d2153533-95f5-4477-ea97-06647d49acb2"
      },
      "execution_count": null,
      "outputs": [
        {
          "output_type": "execute_result",
          "data": {
            "text/plain": [
              "array([49, 29, 13, 20, 43, 83, 96,  8, 76, 84, 11, 35, 32, 88, 61])"
            ]
          },
          "metadata": {},
          "execution_count": 56
        }
      ]
    },
    {
      "cell_type": "code",
      "source": [
        "np.percentile(a,50)"
      ],
      "metadata": {
        "colab": {
          "base_uri": "https://localhost:8080/"
        },
        "id": "P9BjC03eNu71",
        "outputId": "c6e301cf-f1b8-495d-c2c5-24c425056467"
      },
      "execution_count": null,
      "outputs": [
        {
          "output_type": "execute_result",
          "data": {
            "text/plain": [
              "43.0"
            ]
          },
          "metadata": {},
          "execution_count": 57
        }
      ]
    },
    {
      "cell_type": "code",
      "source": [
        "np.median(a)"
      ],
      "metadata": {
        "colab": {
          "base_uri": "https://localhost:8080/"
        },
        "id": "WSftkhR2NyB2",
        "outputId": "7b677826-bc5a-4b37-b64f-e64895892023"
      },
      "execution_count": null,
      "outputs": [
        {
          "output_type": "execute_result",
          "data": {
            "text/plain": [
              "43.0"
            ]
          },
          "metadata": {},
          "execution_count": 58
        }
      ]
    },
    {
      "cell_type": "code",
      "source": [],
      "metadata": {
        "id": "YfEnjtcJNzeW"
      },
      "execution_count": null,
      "outputs": []
    },
    {
      "cell_type": "markdown",
      "source": [
        "## np.histogram\n",
        "\n",
        "Numpy has a built-in numpy.histogram() function which represents the frequency of data distribution in the graphical form."
      ],
      "metadata": {
        "id": "0VXi6d94ORHD"
      }
    },
    {
      "cell_type": "code",
      "source": [
        "a"
      ],
      "metadata": {
        "colab": {
          "base_uri": "https://localhost:8080/"
        },
        "id": "FZmjgKT8OSPG",
        "outputId": "a841fa26-6b07-44f3-8129-0dae0eff3997"
      },
      "execution_count": null,
      "outputs": [
        {
          "output_type": "execute_result",
          "data": {
            "text/plain": [
              "array([49, 29, 13, 20, 43, 83, 96,  8, 76, 84, 11, 35, 32, 88, 61])"
            ]
          },
          "metadata": {},
          "execution_count": 59
        }
      ]
    },
    {
      "cell_type": "code",
      "source": [
        "np.histogram(a , bins=[0,10,20,30,40,50,60,70,80,90,100])"
      ],
      "metadata": {
        "colab": {
          "base_uri": "https://localhost:8080/"
        },
        "id": "ggNaCHTNOUDV",
        "outputId": "20627b59-06f8-4670-dd0a-3a22a932d05b"
      },
      "execution_count": null,
      "outputs": [
        {
          "output_type": "execute_result",
          "data": {
            "text/plain": [
              "(array([1, 2, 2, 2, 2, 0, 1, 1, 3, 1]),\n",
              " array([  0,  10,  20,  30,  40,  50,  60,  70,  80,  90, 100]))"
            ]
          },
          "metadata": {},
          "execution_count": 65
        }
      ]
    },
    {
      "cell_type": "code",
      "source": [],
      "metadata": {
        "id": "P3_ZYFtTOnCl"
      },
      "execution_count": null,
      "outputs": []
    },
    {
      "cell_type": "markdown",
      "source": [
        "## np.corrcoef\n",
        "\n",
        "Return Pearson product-moment correlation coefficients."
      ],
      "metadata": {
        "id": "sTXScJVNPIYf"
      }
    },
    {
      "cell_type": "code",
      "source": [
        "salary = np.array([20000,40000,25000,35000,60000])\n",
        "experience = np.array([1,3,2,4,2])\n",
        "\n",
        "np.corrcoef(salary,experience)"
      ],
      "metadata": {
        "colab": {
          "base_uri": "https://localhost:8080/"
        },
        "id": "m1kOnV3GPJbV",
        "outputId": "15cea3a7-317f-43a7-86d6-5d7c2c962cb8"
      },
      "execution_count": null,
      "outputs": [
        {
          "output_type": "execute_result",
          "data": {
            "text/plain": [
              "array([[1.        , 0.25344572],\n",
              "       [0.25344572, 1.        ]])"
            ]
          },
          "metadata": {},
          "execution_count": 66
        }
      ]
    },
    {
      "cell_type": "markdown",
      "source": [
        "## np.isin\n",
        "\n",
        "With the help of numpy.isin() method, we can see that one array having values are checked in a different numpy array having different elements with different sizes."
      ],
      "metadata": {
        "id": "Hb8Ml5IUPqC6"
      }
    },
    {
      "cell_type": "code",
      "source": [
        "a"
      ],
      "metadata": {
        "colab": {
          "base_uri": "https://localhost:8080/"
        },
        "id": "dkT55qeIPqum",
        "outputId": "d87264c4-8772-49ae-d302-8219bc6945f3"
      },
      "execution_count": null,
      "outputs": [
        {
          "output_type": "execute_result",
          "data": {
            "text/plain": [
              "array([49, 29, 13, 20, 43, 83, 96,  8, 76, 84, 11, 35, 32, 88, 61])"
            ]
          },
          "metadata": {},
          "execution_count": 67
        }
      ]
    },
    {
      "cell_type": "code",
      "source": [
        "items = [10,20,30,40,50,60,70,80,90,100]\n",
        "\n",
        "np.isin(a,items)"
      ],
      "metadata": {
        "colab": {
          "base_uri": "https://localhost:8080/"
        },
        "id": "gKpaA4ePPs8G",
        "outputId": "c1a10bbf-04f8-4d47-9230-6ab8ffe29980"
      },
      "execution_count": null,
      "outputs": [
        {
          "output_type": "execute_result",
          "data": {
            "text/plain": [
              "array([False, False, False,  True, False, False, False, False, False,\n",
              "       False, False, False, False, False, False])"
            ]
          },
          "metadata": {},
          "execution_count": 69
        }
      ]
    },
    {
      "cell_type": "code",
      "source": [
        "a[np.isin(a,items)]"
      ],
      "metadata": {
        "colab": {
          "base_uri": "https://localhost:8080/"
        },
        "id": "v0ss5MZhPuKl",
        "outputId": "28be8da6-8b37-43cc-9ab1-631a08004ec3"
      },
      "execution_count": null,
      "outputs": [
        {
          "output_type": "execute_result",
          "data": {
            "text/plain": [
              "array([20])"
            ]
          },
          "metadata": {},
          "execution_count": 75
        }
      ]
    },
    {
      "cell_type": "markdown",
      "source": [
        "## np.flip\n",
        "\n",
        "The numpy.flip() function reverses the order of array elements along the specified axis, preserving the shape of the array."
      ],
      "metadata": {
        "id": "G8Cgrv-mPxFx"
      }
    },
    {
      "cell_type": "code",
      "source": [
        "a"
      ],
      "metadata": {
        "colab": {
          "base_uri": "https://localhost:8080/"
        },
        "id": "v-19fzH0PxsW",
        "outputId": "08cf9298-c5d5-4061-a245-675680e85903"
      },
      "execution_count": null,
      "outputs": [
        {
          "output_type": "execute_result",
          "data": {
            "text/plain": [
              "array([49, 29, 13, 20, 43, 83, 96,  8, 76, 84, 11, 35, 32, 88, 61])"
            ]
          },
          "metadata": {},
          "execution_count": 76
        }
      ]
    },
    {
      "cell_type": "code",
      "source": [
        "np.flip(a)"
      ],
      "metadata": {
        "colab": {
          "base_uri": "https://localhost:8080/"
        },
        "id": "QJf8QTrbQbtV",
        "outputId": "1e8f6c08-d7a8-4c12-fee4-6307a8bf5b6d"
      },
      "execution_count": null,
      "outputs": [
        {
          "output_type": "execute_result",
          "data": {
            "text/plain": [
              "array([61, 88, 32, 35, 11, 84, 76,  8, 96, 83, 43, 20, 13, 29, 49])"
            ]
          },
          "metadata": {},
          "execution_count": 77
        }
      ]
    },
    {
      "cell_type": "code",
      "source": [],
      "metadata": {
        "id": "5Ed4T4oaQdeF"
      },
      "execution_count": null,
      "outputs": []
    },
    {
      "cell_type": "markdown",
      "source": [
        "## np.put\n",
        "\n",
        "The numpy.put() function replaces specific elements of an array with given values of p_array. Array indexed works on flattened array.\n"
      ],
      "metadata": {
        "id": "bZdssIkEQnLi"
      }
    },
    {
      "cell_type": "code",
      "source": [
        "a"
      ],
      "metadata": {
        "colab": {
          "base_uri": "https://localhost:8080/"
        },
        "id": "l_ZWd4oWQnp-",
        "outputId": "eed0a808-f8a4-42e0-98c3-2682f5c2f0bd"
      },
      "execution_count": null,
      "outputs": [
        {
          "output_type": "execute_result",
          "data": {
            "text/plain": [
              "array([49, 29, 13, 20, 43, 83, 96,  8, 76, 84, 11, 35, 32, 88, 61])"
            ]
          },
          "metadata": {},
          "execution_count": 78
        }
      ]
    },
    {
      "cell_type": "code",
      "source": [
        "# np.put(array,where to change,with what to change)\n",
        "np.put(a,[0,1],[110,530])"
      ],
      "metadata": {
        "id": "ZTAl6I-YQo2F"
      },
      "execution_count": null,
      "outputs": []
    },
    {
      "cell_type": "code",
      "source": [],
      "metadata": {
        "id": "S6MfayFqQ4OE"
      },
      "execution_count": null,
      "outputs": []
    },
    {
      "cell_type": "markdown",
      "source": [
        "## np.delete\n",
        "\n",
        "The numpy.delete() function returns a new array with the deletion of sub-arrays along with the mentioned axis."
      ],
      "metadata": {
        "id": "p5kWkDUYQ51E"
      }
    },
    {
      "cell_type": "code",
      "source": [
        "a"
      ],
      "metadata": {
        "colab": {
          "base_uri": "https://localhost:8080/"
        },
        "id": "eMP4P6gFQ748",
        "outputId": "54984af0-368e-48ff-83e3-3bf6f21bc599"
      },
      "execution_count": null,
      "outputs": [
        {
          "output_type": "execute_result",
          "data": {
            "text/plain": [
              "array([110, 530,  13,  20,  43,  83,  96,   8,  76,  84,  11,  35,  32,\n",
              "        88,  61])"
            ]
          },
          "metadata": {},
          "execution_count": 80
        }
      ]
    },
    {
      "cell_type": "code",
      "source": [
        "np.delete(a,[0,2,4])"
      ],
      "metadata": {
        "colab": {
          "base_uri": "https://localhost:8080/"
        },
        "id": "xjbN7jXsQ9tE",
        "outputId": "21896f59-7141-401f-82ca-7f49ddeb2ea2"
      },
      "execution_count": null,
      "outputs": [
        {
          "output_type": "execute_result",
          "data": {
            "text/plain": [
              "array([530,  20,  83,  96,   8,  76,  84,  11,  35,  32,  88,  61])"
            ]
          },
          "metadata": {},
          "execution_count": 81
        }
      ]
    },
    {
      "cell_type": "code",
      "source": [],
      "metadata": {
        "id": "ZnUDKu9NQ_XE"
      },
      "execution_count": null,
      "outputs": []
    },
    {
      "cell_type": "markdown",
      "source": [
        "## Set functions\n",
        "\n",
        "- np.union1d\n",
        "- np.intersect1d\n",
        "- np.setdiff1d\n",
        "- np.setxor1d\n",
        "- np.in1d"
      ],
      "metadata": {
        "id": "wxTI11PCRD_j"
      }
    },
    {
      "cell_type": "code",
      "source": [
        "m = np.array([1,2,3,4,5])\n",
        "n = np.array([3,4,5,6,7])"
      ],
      "metadata": {
        "id": "5bXKHD3MRFH9"
      },
      "execution_count": null,
      "outputs": []
    },
    {
      "cell_type": "code",
      "source": [
        "np.union1d(m,n)"
      ],
      "metadata": {
        "colab": {
          "base_uri": "https://localhost:8080/"
        },
        "id": "rKES82cHRI6E",
        "outputId": "7246a704-8b23-46f7-fece-dca377a73ac9"
      },
      "execution_count": null,
      "outputs": [
        {
          "output_type": "execute_result",
          "data": {
            "text/plain": [
              "array([1, 2, 3, 4, 5, 6, 7])"
            ]
          },
          "metadata": {},
          "execution_count": 84
        }
      ]
    },
    {
      "cell_type": "code",
      "source": [
        "np.intersect1d(m,n)"
      ],
      "metadata": {
        "colab": {
          "base_uri": "https://localhost:8080/"
        },
        "id": "tNcaUaY-RYGl",
        "outputId": "d3883110-2076-4a83-f7a8-271bfa349070"
      },
      "execution_count": null,
      "outputs": [
        {
          "output_type": "execute_result",
          "data": {
            "text/plain": [
              "array([3, 4, 5])"
            ]
          },
          "metadata": {},
          "execution_count": 85
        }
      ]
    },
    {
      "cell_type": "code",
      "source": [
        "np.setdiff1d(m,n) # That has in m but not in n"
      ],
      "metadata": {
        "colab": {
          "base_uri": "https://localhost:8080/"
        },
        "id": "SFGi2CFtRc5l",
        "outputId": "f9c9caf4-34c7-4fe2-c84b-e49e61e3c0eb"
      },
      "execution_count": null,
      "outputs": [
        {
          "output_type": "execute_result",
          "data": {
            "text/plain": [
              "array([1, 2])"
            ]
          },
          "metadata": {},
          "execution_count": 88
        }
      ]
    },
    {
      "cell_type": "code",
      "source": [
        "np.setxor1d(m,n) # Common will be dropeed"
      ],
      "metadata": {
        "colab": {
          "base_uri": "https://localhost:8080/"
        },
        "id": "QKdbqok1Rcqe",
        "outputId": "4d45a882-91c9-4512-9fd0-1f267bdf6c7b"
      },
      "execution_count": null,
      "outputs": [
        {
          "output_type": "execute_result",
          "data": {
            "text/plain": [
              "array([1, 2, 6, 7])"
            ]
          },
          "metadata": {},
          "execution_count": 90
        }
      ]
    },
    {
      "cell_type": "code",
      "source": [
        "np.in1d(m,n) #Acts like membership operator which is, if in m, n is available or not"
      ],
      "metadata": {
        "colab": {
          "base_uri": "https://localhost:8080/"
        },
        "id": "WpxYkYd4RnPN",
        "outputId": "a8f4f7c9-0839-4309-bda0-2b3eca00f995"
      },
      "execution_count": null,
      "outputs": [
        {
          "output_type": "execute_result",
          "data": {
            "text/plain": [
              "array([False, False,  True,  True,  True])"
            ]
          },
          "metadata": {},
          "execution_count": 92
        }
      ]
    },
    {
      "cell_type": "code",
      "source": [],
      "metadata": {
        "id": "fjLgtectR8L1"
      },
      "execution_count": null,
      "outputs": []
    },
    {
      "cell_type": "markdown",
      "source": [
        "## np.clip\n",
        "\n",
        "numpy.clip() function is used to Clip (limit) the values in an array."
      ],
      "metadata": {
        "id": "ukGRMkPPSMYV"
      }
    },
    {
      "cell_type": "code",
      "source": [
        "a"
      ],
      "metadata": {
        "colab": {
          "base_uri": "https://localhost:8080/"
        },
        "id": "oorCNcD0SNBc",
        "outputId": "a7804458-3c88-4c22-adac-4d729bd06979"
      },
      "execution_count": null,
      "outputs": [
        {
          "output_type": "execute_result",
          "data": {
            "text/plain": [
              "array([110, 530,  13,  20,  43,  83,  96,   8,  76,  84,  11,  35,  32,\n",
              "        88,  61])"
            ]
          },
          "metadata": {},
          "execution_count": 93
        }
      ]
    },
    {
      "cell_type": "code",
      "source": [
        "np.clip(a,a_min = 25,a_max = 75)"
      ],
      "metadata": {
        "colab": {
          "base_uri": "https://localhost:8080/"
        },
        "id": "Qr8S5bFMSQWr",
        "outputId": "d1b3f815-d15b-4626-c8be-9eba2bdf903c"
      },
      "execution_count": null,
      "outputs": [
        {
          "output_type": "execute_result",
          "data": {
            "text/plain": [
              "array([75, 75, 25, 25, 43, 75, 75, 25, 75, 75, 25, 35, 32, 75, 61])"
            ]
          },
          "metadata": {},
          "execution_count": 94
        }
      ]
    },
    {
      "cell_type": "code",
      "source": [],
      "metadata": {
        "id": "feTCQikgSck0"
      },
      "execution_count": null,
      "outputs": []
    }
  ]
}